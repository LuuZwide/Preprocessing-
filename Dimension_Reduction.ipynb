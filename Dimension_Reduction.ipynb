{
  "nbformat": 4,
  "nbformat_minor": 0,
  "metadata": {
    "colab": {
      "provenance": [],
      "authorship_tag": "ABX9TyPgiJ+XaW1zqLRt05ygbZey",
      "include_colab_link": true
    },
    "kernelspec": {
      "name": "python3",
      "display_name": "Python 3"
    },
    "language_info": {
      "name": "python"
    }
  },
  "cells": [
    {
      "cell_type": "markdown",
      "metadata": {
        "id": "view-in-github",
        "colab_type": "text"
      },
      "source": [
        "<a href=\"https://colab.research.google.com/github/LuuZwide/Preprocessing-/blob/main/Dimension_Reduction.ipynb\" target=\"_parent\"><img src=\"https://colab.research.google.com/assets/colab-badge.svg\" alt=\"Open In Colab\"/></a>"
      ]
    },
    {
      "cell_type": "code",
      "source": [
        "from google.colab import drive\n",
        "import pandas as pd\n",
        "import numpy as np\n",
        "import yfinance as yf\n",
        "drive.mount('/content/drive')\n",
        "!cp \"/content/drive/MyDrive/Functions/Preprocessing/Precossing_Functions_for_stock_chpters_1.ipynb\" .\n",
        "%run Precossing_Functions_for_stock_chpters_1.ipynb\n",
        "\n",
        "from sklearn.preprocessing import StandardScaler\n",
        "from sklearn.svm import LinearSVC, SVC, LinearSVR, SVR\n",
        "from sklearn.preprocessing import PolynomialFeatures\n",
        "from sklearn.metrics import confusion_matrix, roc_curve, precision_score, recall_score, precision_recall_curve,roc_auc_score\n",
        "from sklearn.model_selection import cross_val_score,cross_val_predict\n",
        "from sklearn.preprocessing import PolynomialFeatures\n",
        "\n",
        "ticker = yf.Ticker(\"AAPL\")\n",
        "apple_data = ticker.history(period=\"Max\")\n",
        "apple_data = apple_data.drop(['Dividends','Stock Splits'] , axis = 1)\n",
        "apple_data.reset_index(drop = False, inplace = True)\n",
        "\n",
        "ticker = yf.Ticker(\"IBM\")\n",
        "ibm_data = ticker.history(period=\"Max\")\n",
        "ibm_data = ibm_data.drop(['Dividends','Stock Splits'] , axis = 1)\n",
        "ibm_data.reset_index(drop = False, inplace = True)\n",
        "\n",
        "ticker = yf.Ticker(\"GE\")\n",
        "ge_data = ticker.history(period=\"Max\")\n",
        "ge_data = ge_data.drop(['Dividends','Stock Splits'] , axis = 1)\n",
        "ge_data.reset_index(drop = False, inplace = True)\n",
        "\n",
        "ticker = yf.Ticker(\"amzn\")\n",
        "amzn_data = ticker.history(period=\"Max\")\n",
        "amzn_data = amzn_data.drop(['Dividends','Stock Splits'] , axis = 1)\n",
        "amzn_data.reset_index(drop = False, inplace = True)\n",
        "\n",
        "ticker = yf.Ticker(\"GOOGL\")\n",
        "google_data = ticker.history(period=\"Max\")\n",
        "google_data = google_data.drop(['Dividends','Stock Splits'] , axis = 1)\n",
        "google_data.reset_index(drop = False, inplace = True)\n",
        "\n",
        "stock_pd = pd.concat([apple_data])\n",
        "stock_pd = stock_pd.reset_index(drop = True)\n",
        "stock_pd.head()\n",
        "stock_pd.describe()\n",
        "\n",
        "prices = stock_pd['Close']\n",
        "len_of_data = len(prices)\n",
        "window_size = 5\n",
        "stock_dataset = Combine_dataframes(stock_pd ,prices, window_size,len_of_data, fast = 12, slow = 26)\n",
        "\n",
        "\n",
        "val_data = apple_data\n",
        "val_prices = val_data['Close']\n",
        "len_of_data = len(val_prices)\n",
        "window_size = 5\n",
        "val_dataset = Combine_dataframes(val_data ,val_prices, window_size,len_of_data, fast = 12, slow = 26)\n",
        "\n",
        "attribute = 'moving_avg'\n",
        "split_cat = 'avg_cat'\n",
        "dividing_value = 5\n",
        "max_value = 10\n",
        "set_max_value = 10\n",
        "stock_dataframe = cat_for_split(stock_dataset,attribute, split_cat, dividing_value, max_value, set_max_value)\n",
        "\n",
        "val_dataframe = cat_for_split(val_dataset,attribute, split_cat, dividing_value, max_value, set_max_value)\n",
        "\n",
        "def CreateNextCloseCat(stock_dataset):\n",
        "  Y_values = []\n",
        "  close_values = stock_dataset['Close']\n",
        "  len_of_data = len(stock_dataset)\n",
        "  for i in range(len_of_data - 1):\n",
        "    if(close_values[i + 1] > close_values[i]):\n",
        "      Y_values.append(True)\n",
        "    else:\n",
        "      Y_values.append(False)\n",
        "\n",
        "  Y_values.append(False)\n",
        "  return np.array(Y_values)\n",
        "\n",
        "Y_train = CreateNextCloseCat(stock_dataframe)\n",
        "num_True = np.count_nonzero(Y_train)\n",
        "num_False = np.count_nonzero(~Y_train)\n",
        "print('Number of Trues: ',num_True)\n",
        "print('Number of Falses: ',num_False)\n",
        "print('Shape of Y: ', Y_train.shape)\n",
        "\n",
        "X = stock_dataframe.drop('next_close', axis = 1)\n",
        "y = Y_train\n",
        "\n",
        "print('train y: ', y.shape)\n",
        "print('train x : ',X.shape )\n",
        "\n",
        "x_train, x_test, y_train, y_test = train_test_split(X, y, test_size = 0.2, shuffle = False)\n",
        "attribs = list(x_train.columns)\n",
        "#attribs = list(['Open', 'High', 'Low', 'Close', 'moving_avg', 'exm_avg'])\n",
        "print(len(x_train))\n",
        "print(len(x_test))\n",
        "\n",
        "data_pipeline = Pipeline(\n",
        "    (\n",
        "        ('ConvertDataFrame',DataFrameSelector(attribs)),\n",
        "        ('Scaler', StandardScaler())\n",
        "    )\n",
        ")\n",
        "\n",
        "x_train_prepared = data_pipeline.fit_transform(x_train)\n",
        "print('x_train shape: ',x_train_prepared.shape)\n",
        "print('y_train shape: ',y_train.shape)"
      ],
      "metadata": {
        "colab": {
          "base_uri": "https://localhost:8080/"
        },
        "id": "8s7U-SIsNiAS",
        "outputId": "4159495a-4731-47c9-eb6c-54db14ed4261"
      },
      "execution_count": null,
      "outputs": [
        {
          "output_type": "stream",
          "name": "stdout",
          "text": [
            "Mounted at /content/drive\n",
            "Number of Trues:  5302\n",
            "Number of Falses:  5368\n",
            "Shape of Y:  (10670,)\n",
            "train y:  (10670,)\n",
            "train x :  (10670, 13)\n",
            "8536\n",
            "2134\n",
            "x_train shape:  (8536, 13)\n",
            "y_train shape:  (8536,)\n"
          ]
        }
      ]
    },
    {
      "cell_type": "code",
      "execution_count": null,
      "metadata": {
        "id": "W4up428eqwQc"
      },
      "outputs": [],
      "source": [
        "from sklearn.decomposition import PCA, KernelPCA\n",
        "import matplotlib.pyplot as plt\n",
        "from sklearn.model_selection import GridSearchCV\n",
        "from sklearn.linear_model import ElasticNet\n",
        "from sklearn.pipeline import Pipeline\n",
        "from sklearn.metrics import mean_squared_error"
      ]
    },
    {
      "cell_type": "markdown",
      "source": [
        "# PCA"
      ],
      "metadata": {
        "id": "edrWuueJNT4q"
      }
    },
    {
      "cell_type": "code",
      "source": [
        "pca  = PCA(n_components= 2)\n",
        "X2D = pca.fit_transform(x_train_prepared)\n",
        "\n",
        "print(X2D.shape)\n",
        "print(pca.explained_variance_ratio_)\n",
        "# that means 56% of the data's variance lies in the first axis and 17% lies in the second axis\n",
        "# and the other percents are in the other axis...\n"
      ],
      "metadata": {
        "colab": {
          "base_uri": "https://localhost:8080/"
        },
        "id": "HzDSDcj1NVmA",
        "outputId": "35138c99-2ed6-4830-d098-f2e56c21507a"
      },
      "execution_count": null,
      "outputs": [
        {
          "output_type": "stream",
          "name": "stdout",
          "text": [
            "(8536, 2)\n",
            "[0.56405648 0.17770312]\n"
          ]
        }
      ]
    },
    {
      "cell_type": "markdown",
      "source": [
        "# Choosing the right number of Dimensions"
      ],
      "metadata": {
        "id": "laWeHJEjR5K7"
      }
    },
    {
      "cell_type": "code",
      "source": [
        "# to find the dimensions required for 95% variance of data\n",
        "\n",
        "pca = PCA()\n",
        "pca.fit(x_train_prepared)\n",
        "cumsum = np.cumsum(pca.explained_variance_ratio_)\n",
        "d = np.argmax(cumsum >= 0.95) + 1\n",
        "print(d)\n",
        "\n",
        "# now we set n_components to d\n",
        "# Or\n",
        "pca = PCA(n_components = 0.95)\n",
        "X_reduced = pca.fit_transform(x_train_prepared)\n",
        "print(X_reduced.shape)"
      ],
      "metadata": {
        "colab": {
          "base_uri": "https://localhost:8080/"
        },
        "id": "i1dsHzDWR89l",
        "outputId": "9500ef26-138e-44c5-f34f-06a942e30833"
      },
      "execution_count": null,
      "outputs": [
        {
          "output_type": "stream",
          "name": "stdout",
          "text": [
            "5\n",
            "(8536, 5)\n"
          ]
        }
      ]
    },
    {
      "cell_type": "code",
      "source": [
        "n_dims = len(cumsum)\n",
        "plt.plot(range(1, n_dims+1), cumsum)\n",
        "plt.xlabel('Number of dimensions')\n",
        "plt.ylabel('Explained variance ratio')\n",
        "plt.show()"
      ],
      "metadata": {
        "colab": {
          "base_uri": "https://localhost:8080/",
          "height": 449
        },
        "id": "7seUuUcwUOM2",
        "outputId": "c8fcf747-4e2b-4b1f-8dce-3b9d60968a32"
      },
      "execution_count": null,
      "outputs": [
        {
          "output_type": "display_data",
          "data": {
            "text/plain": [
              "<Figure size 640x480 with 1 Axes>"
            ],
            "image/png": "[encoded data removed]"
          },
          "metadata": {}
        }
      ]
    },
    {
      "cell_type": "markdown",
      "source": [
        "# kernel PCA"
      ],
      "metadata": {
        "id": "KUaIL4rpYWE1"
      }
    },
    {
      "cell_type": "code",
      "source": [
        "rbf_pca = KernelPCA(n_components = 2, kernel = 'rbf', gamma  = 0.04)\n",
        "x_reduced = rbf_pca.fit_transform(x_train_prepared)"
      ],
      "metadata": {
        "id": "IUVNo0Q7YYX2"
      },
      "execution_count": null,
      "outputs": []
    },
    {
      "cell_type": "markdown",
      "source": [
        "# Selecting a Kernel and Tuning Hyperparameters"
      ],
      "metadata": {
        "id": "8pM9PmdOZR9F"
      }
    },
    {
      "cell_type": "code",
      "source": [
        "clf = Pipeline([\n",
        "    ('kpca', KernelPCA(n_components = 5)),\n",
        "     ('elastic_reg',ElasticNet(alpha = 1.4, l1_ratio = 0.01))\n",
        "])\n",
        "\n",
        "param_grid = [{\n",
        "    'kpca__gamma':np.linspace(0.03, 0.05, 10),\n",
        "    'kpca__kernel':['rbf','sigmoid']\n",
        "}]\n",
        "\n",
        "\n",
        "grid_search = GridSearchCV(clf, param_grid, cv = 3)\n",
        "grid_search.fit(x_train_prepared, y_train)\n",
        "\n",
        "\n",
        "predictions = grid_search.best_estimator_.predict(x_train_prepared)\n",
        "elastic_mse = mean_squared_error(y_train, predictions)\n",
        "print('mse: ', elastic_mse)\n",
        "print('rmse: ',  np.sqrt(elastic_mse))\n",
        "print('best params: ', grid_search.best_params_)"
      ],
      "metadata": {
        "colab": {
          "base_uri": "https://localhost:8080/"
        },
        "id": "db59iMR3ZVP-",
        "outputId": "fb1768e5-2c96-44e6-845b-2c32cb359f37"
      },
      "execution_count": null,
      "outputs": [
        {
          "output_type": "stream",
          "name": "stdout",
          "text": [
            "mse:  0.24988383726149307\n",
            "rmse:  0.4998838237645754\n"
          ]
        }
      ]
    },
    {
      "cell_type": "markdown",
      "source": [
        "LLE (Local Linear Embedding)"
      ],
      "metadata": {
        "id": "P5FAgsi-pCJD"
      }
    },
    {
      "cell_type": "code",
      "source": [
        "from sklearn.manifold import LocallyLinearEmbedding\n",
        "\n",
        "lle = LocallyLinearEmbedding(n_components=2, n_neighbors=10)\n",
        "X_reduced = lle.fit_transform(X)\n"
      ],
      "metadata": {
        "colab": {
          "base_uri": "https://localhost:8080/"
        },
        "id": "B_UY9Wp0oNx7",
        "outputId": "69e095ac-17ca-4199-b6ad-3b652b9684ae"
      },
      "execution_count": null,
      "outputs": [
        {
          "output_type": "stream",
          "name": "stdout",
          "text": [
            "best params:  {'kpca__gamma': 0.03, 'kpca__kernel': 'rbf'}\n"
          ]
        }
      ]
    }
  ]
}